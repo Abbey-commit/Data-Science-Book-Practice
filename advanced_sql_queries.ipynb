{
 "cells": [
  {
   "cell_type": "markdown",
   "id": "d72706e1-5a75-4552-881f-551d38bfe547",
   "metadata": {},
   "source": [
    "# Synthetic Dataset Using Library System "
   ]
  },
  {
   "cell_type": "markdown",
   "id": "f18d2ba5-c801-48e6-9b6b-5c4039ad7c95",
   "metadata": {},
   "source": [
    "##### Perform Advancesd SQL Queries\n",
    "In this step, we perform various advanced SQL queries involving different types of joins to get insights from the data."
   ]
  },
  {
   "cell_type": "code",
   "execution_count": 2,
   "id": "db2c6411-668a-43d8-9230-7b2ce2b6a9a2",
   "metadata": {},
   "outputs": [],
   "source": [
    "# Import necessary libraries\n",
    "import sqlite3\n",
    "import pandas as pd"
   ]
  },
  {
   "cell_type": "code",
   "execution_count": 3,
   "id": "f94a95fc-070b-41d8-899c-8db2a958842e",
   "metadata": {},
   "outputs": [],
   "source": [
    "# Create a connection to SQLite database\n",
    "conn = sqlite3.connect('library_data.db')"
   ]
  },
  {
   "cell_type": "code",
   "execution_count": 6,
   "id": "af080aa1-6f86-473b-99c2-61f6a8e180e5",
   "metadata": {},
   "outputs": [
    {
     "name": "stdout",
     "output_type": "stream",
     "text": [
      "Books with their authors:\n",
      "      title author_name            genre  published_year\n",
      "0    Book 1    Author 8  Science Fiction            2008\n",
      "1    Book 2    Author 6  Science Fiction            2017\n",
      "2    Book 3    Author 8      Non-Fiction            2002\n",
      "3    Book 4    Author 5          Fantasy            2014\n",
      "4    Book 5    Author 8  Science Fiction            2017\n",
      "5    Book 6    Author 2  Science Fiction            1991\n",
      "6    Book 7   Author 10  Science Fiction            2011\n",
      "7    Book 8    Author 1          Fantasy            1994\n",
      "8    Book 9    Author 6  Science Fiction            1997\n",
      "9   Book 10    Author 5          Fiction            1991\n",
      "10  Book 11    Author 6  Science Fiction            1991\n",
      "11  Book 12    Author 7          Fantasy            2015\n",
      "12  Book 13    Author 9          Fantasy            1997\n",
      "13  Book 14    Author 8      Non-Fiction            2004\n",
      "14  Book 15    Author 5      Non-Fiction            2003\n",
      "15  Book 16    Author 7          Fiction            2019\n",
      "16  Book 17    Author 2          Fiction            1991\n",
      "17  Book 18    Author 5          Fantasy            2000\n",
      "18  Book 19    Author 4          Fiction            2019\n",
      "19  Book 20    Author 9          Fantasy            2009\n"
     ]
    }
   ],
   "source": [
    "# Query 1: Inner Join - Get the list of books along with their authors\n",
    "query1 = '''\n",
    "SELECT books.title, authors.author_name, books.genre, books.published_year\n",
    "FROM books\n",
    "INNER JOIN authors ON books.author_id = authors.author_id\n",
    "'''\n",
    "\n",
    "books_with_authors = pd.read_sql(query1, conn)\n",
    "print('Books with their authors:')\n",
    "print(books_with_authors)"
   ]
  },
  {
   "cell_type": "raw",
   "id": "1197a3c1-26b5-4f34-8e23-d5f7fbaa223b",
   "metadata": {},
   "source": [
    "Query 2: Left Outer Join - Get the list of all authors and their books, including authors with no books"
   ]
  },
  {
   "cell_type": "code",
   "execution_count": 7,
   "id": "406ee9a5-79c3-4034-ac17-72830204bf3e",
   "metadata": {},
   "outputs": [
    {
     "name": "stdout",
     "output_type": "stream",
     "text": [
      "\n",
      "Authors with their books (including authors with no books):\n",
      "   author_name    title            genre  published_year\n",
      "0     Author 1   Book 8          Fantasy          1994.0\n",
      "1     Author 2  Book 17          Fiction          1991.0\n",
      "2     Author 2   Book 6  Science Fiction          1991.0\n",
      "3     Author 3     None             None             NaN\n",
      "4     Author 4  Book 19          Fiction          2019.0\n",
      "5     Author 5  Book 10          Fiction          1991.0\n",
      "6     Author 5  Book 15      Non-Fiction          2003.0\n",
      "7     Author 5  Book 18          Fantasy          2000.0\n",
      "8     Author 5   Book 4          Fantasy          2014.0\n",
      "9     Author 6  Book 11  Science Fiction          1991.0\n",
      "10    Author 6   Book 2  Science Fiction          2017.0\n",
      "11    Author 6   Book 9  Science Fiction          1997.0\n",
      "12    Author 7  Book 12          Fantasy          2015.0\n",
      "13    Author 7  Book 16          Fiction          2019.0\n",
      "14    Author 8   Book 1  Science Fiction          2008.0\n",
      "15    Author 8  Book 14      Non-Fiction          2004.0\n",
      "16    Author 8   Book 3      Non-Fiction          2002.0\n",
      "17    Author 8   Book 5  Science Fiction          2017.0\n",
      "18    Author 9  Book 13          Fantasy          1997.0\n",
      "19    Author 9  Book 20          Fantasy          2009.0\n",
      "20   Author 10   Book 7  Science Fiction          2011.0\n"
     ]
    }
   ],
   "source": [
    "query2 = '''\n",
    "SELECT authors.author_name, books.title, books.genre, books.published_year\n",
    "FROM authors\n",
    "Left JOIN books ON authors.author_id = books.author_id\n",
    "'''\n",
    "\n",
    "authors_with_books = pd.read_sql(query2, conn)\n",
    "print('\\nAuthors with their books (including authors with no books):')\n",
    "print(authors_with_books)"
   ]
  },
  {
   "cell_type": "raw",
   "id": "bbb64c25-9868-4b2e-90d7-1bf441b0686a",
   "metadata": {},
   "source": [
    "Query3 : Right Outer Join - Get the listof all books and their authors, including books with no authors (simulated with LEFT JOIN and NULL check)"
   ]
  },
  {
   "cell_type": "code",
   "execution_count": 13,
   "id": "62fc77ab-3b6f-490b-b757-3c64968781ec",
   "metadata": {},
   "outputs": [
    {
     "name": "stdout",
     "output_type": "stream",
     "text": [
      "\n",
      "Books with their author (including books with no authors):\n",
      "   author_name    title            genre  published_year\n",
      "0     Author 1   Book 8          Fantasy            1994\n",
      "1    Author 10   Book 7  Science Fiction            2011\n",
      "2     Author 2  Book 17          Fiction            1991\n",
      "3     Author 2   Book 6  Science Fiction            1991\n",
      "4     Author 4  Book 19          Fiction            2019\n",
      "5     Author 5  Book 10          Fiction            1991\n",
      "6     Author 5  Book 15      Non-Fiction            2003\n",
      "7     Author 5  Book 18          Fantasy            2000\n",
      "8     Author 5   Book 4          Fantasy            2014\n",
      "9     Author 6  Book 11  Science Fiction            1991\n",
      "10    Author 6   Book 2  Science Fiction            2017\n",
      "11    Author 6   Book 9  Science Fiction            1997\n",
      "12    Author 7  Book 12          Fantasy            2015\n",
      "13    Author 7  Book 16          Fiction            2019\n",
      "14    Author 8   Book 1  Science Fiction            2008\n",
      "15    Author 8  Book 14      Non-Fiction            2004\n",
      "16    Author 8   Book 3      Non-Fiction            2002\n",
      "17    Author 8   Book 5  Science Fiction            2017\n",
      "18    Author 9  Book 13          Fantasy            1997\n",
      "19    Author 9  Book 20          Fantasy            2009\n"
     ]
    }
   ],
   "source": [
    "query3 = '''\n",
    "SELECT authors.author_name, books.title, books.genre, books.published_year\n",
    "FROM books\n",
    "LEFT JOIN authors ON books.author_id = authors.author_id\n",
    "WHERE authors.author_id IS NULL\n",
    "UNION\n",
    "SELECT authors.author_name, books.title, books.genre, books.published_year\n",
    "FROM books\n",
    "LEFT JOIN authors ON books.author_id = authors.author_id\n",
    "WHERE authors.author_id IS NOT NULL\n",
    "'''\n",
    "\n",
    "books_with_authors_right = pd.read_sql(query3, conn)\n",
    "print('\\nBooks with their author (including books with no authors):')\n",
    "print(books_with_authors_right)"
   ]
  },
  {
   "cell_type": "raw",
   "id": "39b018ad-392b-4362-9db7-437b7f0c0bd6",
   "metadata": {},
   "source": [
    "Query 4: Full Outer Join - Get the list of all authors and books, including those with no match (simulated with UNION)"
   ]
  },
  {
   "cell_type": "code",
   "execution_count": 15,
   "id": "2ed2fe83-6834-4f07-840e-97e1f944b086",
   "metadata": {},
   "outputs": [
    {
     "name": "stdout",
     "output_type": "stream",
     "text": [
      "\n",
      "Full outer join (all authors and books):\n",
      "   author_name    title            genre  published_year\n",
      "0     Author 1   Book 8          Fantasy          1994.0\n",
      "1    Author 10   Book 7  Science Fiction          2011.0\n",
      "2     Author 2  Book 17          Fiction          1991.0\n",
      "3     Author 2   Book 6  Science Fiction          1991.0\n",
      "4     Author 3     None             None             NaN\n",
      "5     Author 4  Book 19          Fiction          2019.0\n",
      "6     Author 5  Book 10          Fiction          1991.0\n",
      "7     Author 5  Book 15      Non-Fiction          2003.0\n",
      "8     Author 5  Book 18          Fantasy          2000.0\n",
      "9     Author 5   Book 4          Fantasy          2014.0\n",
      "10    Author 6  Book 11  Science Fiction          1991.0\n",
      "11    Author 6   Book 2  Science Fiction          2017.0\n",
      "12    Author 6   Book 9  Science Fiction          1997.0\n",
      "13    Author 7  Book 12          Fantasy          2015.0\n",
      "14    Author 7  Book 16          Fiction          2019.0\n",
      "15    Author 8   Book 1  Science Fiction          2008.0\n",
      "16    Author 8  Book 14      Non-Fiction          2004.0\n",
      "17    Author 8   Book 3      Non-Fiction          2002.0\n",
      "18    Author 8   Book 5  Science Fiction          2017.0\n",
      "19    Author 9  Book 13          Fantasy          1997.0\n",
      "20    Author 9  Book 20          Fantasy          2009.0\n"
     ]
    }
   ],
   "source": [
    "query4 = '''\n",
    "SELECT authors.author_name, books.title, books.genre, books.published_year\n",
    "FROM authors\n",
    "LEFT jOIN books ON authors.author_id = books.author_id\n",
    "UNION \n",
    "SELECT authors.author_name, books.title, books.genre, books.published_year\n",
    "FROM books\n",
    "LEFT JOIN authors ON books.author_id = authors.author_id\n",
    "'''\n",
    "\n",
    "full_outer_join = pd.read_sql(query4, conn)\n",
    "print('\\nFull outer join (all authors and books):')\n",
    "print(full_outer_join)"
   ]
  },
  {
   "cell_type": "raw",
   "id": "cefde642-ef69-4fee-989c-a7dcfa9888ad",
   "metadata": {},
   "source": [
    "Query 5: Get the list pf borrowers along with the books they borrowed"
   ]
  },
  {
   "cell_type": "code",
   "execution_count": 16,
   "id": "6399eeca-4ef1-4857-8066-8a3785810ca2",
   "metadata": {},
   "outputs": [
    {
     "name": "stdout",
     "output_type": "stream",
     "text": [
      "\n",
      "Borrowers with the books they borrowed:\n",
      "   borrower_name    title borrow_date\n",
      "0     Borrower 1  Book 16  2025-01-01\n",
      "1     Borrower 2  Book 18  2025-01-08\n",
      "2     Borrower 3   Book 8  2025-01-15\n",
      "3     Borrower 4  Book 18  2025-01-22\n",
      "4     Borrower 5   Book 4  2025-01-29\n",
      "5     Borrower 6   Book 8  2025-02-05\n",
      "6     Borrower 7   Book 2  2025-02-12\n",
      "7     Borrower 8   Book 6  2025-02-19\n",
      "8     Borrower 9  Book 20  2025-02-26\n",
      "9    Borrower 10  Book 15  2025-03-05\n",
      "10   Borrower 11  Book 16  2025-03-12\n",
      "11   Borrower 12   Book 5  2025-03-19\n",
      "12   Borrower 13   Book 2  2025-03-26\n",
      "13   Borrower 14   Book 3  2025-04-02\n",
      "14   Borrower 15  Book 11  2025-04-09\n"
     ]
    }
   ],
   "source": [
    "query5 = '''\n",
    "SELECT borrowers.borrower_name, books.title, borrowers.borrow_date\n",
    "FROM borrowers\n",
    "INNER JOIN books ON borrowers.borrowed_book_id = books.book_id\n",
    "'''\n",
    "\n",
    "borrowers_with_books = pd.read_sql(query5, conn)\n",
    "print('\\nBorrowers with the books they borrowed:')\n",
    "print(borrowers_with_books)"
   ]
  },
  {
   "cell_type": "code",
   "execution_count": 17,
   "id": "d9d52a7c-ddfc-4858-9866-ab82b23e161d",
   "metadata": {},
   "outputs": [],
   "source": [
    "# Close the connection \n",
    "conn.close()"
   ]
  },
  {
   "cell_type": "code",
   "execution_count": null,
   "id": "74c2c929-5a78-4caa-b6b0-a68fbcae93e5",
   "metadata": {},
   "outputs": [],
   "source": []
  }
 ],
 "metadata": {
  "kernelspec": {
   "display_name": "Python 3 (ipykernel)",
   "language": "python",
   "name": "python3"
  },
  "language_info": {
   "codemirror_mode": {
    "name": "ipython",
    "version": 3
   },
   "file_extension": ".py",
   "mimetype": "text/x-python",
   "name": "python",
   "nbconvert_exporter": "python",
   "pygments_lexer": "ipython3",
   "version": "3.12.7"
  }
 },
 "nbformat": 4,
 "nbformat_minor": 5
}
