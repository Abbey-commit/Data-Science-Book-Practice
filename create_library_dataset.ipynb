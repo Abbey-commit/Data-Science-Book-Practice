{
 "cells": [
  {
   "cell_type": "markdown",
   "id": "105eef86-8a3a-44d5-80d3-b4f31aa22972",
   "metadata": {},
   "source": [
    "# Synthetic Dataset Representing Library System"
   ]
  },
  {
   "cell_type": "markdown",
   "id": "b70f1a2b-c8f5-49be-a1a5-b1ac69f4052a",
   "metadata": {},
   "source": [
    "In this step, i generate synthetic dataset representing a library system, including authors, books, and borrowers. We then save these datasets to CSV files."
   ]
  },
  {
   "cell_type": "code",
   "execution_count": 3,
   "id": "4edf2a2c-739f-49c8-8092-2e2053d8f653",
   "metadata": {},
   "outputs": [],
   "source": [
    "# Import necessary libraries\n",
    "import pandas as pd\n",
    "import numpy as np"
   ]
  },
  {
   "cell_type": "markdown",
   "id": "ee946929-7273-4459-9246-82c991336a10",
   "metadata": {},
   "source": [
    "##### Create synthetic datasets for the library system"
   ]
  },
  {
   "cell_type": "code",
   "execution_count": 27,
   "id": "0dcfc79d-f903-4400-8062-32d74e835557",
   "metadata": {},
   "outputs": [],
   "source": [
    "# Authors Data\n",
    "# Creating a dictionary with authors details\n",
    "authors_data = {\n",
    "    'author_id': range(1, 11),\n",
    "    'author_name': ['Author ' + str(i) for i in range(1, 11)],\n",
    "    'nationality': np.random.choice(['American', 'British', 'Canadian', 'Australian'], 10)\n",
    "}"
   ]
  },
  {
   "cell_type": "code",
   "execution_count": 23,
   "id": "2d97bddf-a059-422d-9ea5-12310f2456c9",
   "metadata": {},
   "outputs": [],
   "source": [
    "# Book data\n",
    "# Create a dictionary with book details, linking books to authors\n",
    "# Books data (20 books)\n",
    "books_data = {\n",
    "    'book_id': range(1, 21),\n",
    "    'title': ['Book ' + str(i) for i in range(1, 21)],\n",
    "    'author_id': np.random.choice(range(1, 11), 20),\n",
    "    'genre': np.random.choice(['Fiction', 'Non-Fiction', 'Science Fiction', 'Fantasy'], 20),\n",
    "    'published_year': np.random.randint(1990, 2021, 20)\n",
    "}"
   ]
  },
  {
   "cell_type": "code",
   "execution_count": 28,
   "id": "24630d90-cc33-4863-b90b-e8937f15f61b",
   "metadata": {},
   "outputs": [],
   "source": [
    "# Borrowed data\n",
    "# Creating a dictionary with borrower details, linking borrowers to books\n",
    "borrowers_data = {\n",
    "    'borrower_id': range(1, 16),\n",
    "    'borrower_name': ['Borrower ' + str(i) for i in range(1, 16)],\n",
    "    'borrowed_book_id': np.random.choice(range(1, 21), 15),\n",
    "    'borrow_date': pd.date_range(start='2025-01-01', periods=15, freq='7D').strftime('%Y-%m-%d').tolist()\n",
    "}"
   ]
  },
  {
   "cell_type": "code",
   "execution_count": 30,
   "id": "44176c0c-1a38-43dc-b8aa-fb7b3dc42ad3",
   "metadata": {},
   "outputs": [],
   "source": [
    "# Convert the dictionaries to DataFrames\n",
    "authors_df = pd.DataFrame(authors_data)\n",
    "books_df = pd.DataFrame(books_data)\n",
    "borrowers_df = pd.DataFrame(borrowers_data)"
   ]
  },
  {
   "cell_type": "code",
   "execution_count": 33,
   "id": "372baa44-d35f-4a6d-a242-a185ddf73811",
   "metadata": {},
   "outputs": [],
   "source": [
    "# Save the DataFrame to CSV files\n",
    "authors_df.to_csv('authors.csv', index=False)\n",
    "books_df.to_csv('books.csv', index=False)\n",
    "borrowers_df.to_csv('borrowers.csv', index=False)"
   ]
  },
  {
   "cell_type": "code",
   "execution_count": 34,
   "id": "786a6f6c-7c25-4c12-933d-4bd18484af6c",
   "metadata": {},
   "outputs": [
    {
     "name": "stdout",
     "output_type": "stream",
     "text": [
      "   author_id author_name nationality\n",
      "0          1    Author 1  Australian\n",
      "1          2    Author 2    Canadian\n",
      "2          3    Author 3    Canadian\n",
      "3          4    Author 4    Canadian\n",
      "4          5    Author 5    Canadian\n",
      "   book_id   title  author_id            genre  published_year\n",
      "0        1  Book 1          8  Science Fiction            2008\n",
      "1        2  Book 2          6  Science Fiction            2017\n",
      "2        3  Book 3          8      Non-Fiction            2002\n",
      "3        4  Book 4          5          Fantasy            2014\n",
      "4        5  Book 5          8  Science Fiction            2017\n",
      "   borrower_id borrower_name  borrowed_book_id borrow_date\n",
      "0            1    Borrower 1                16  2025-01-01\n",
      "1            2    Borrower 2                18  2025-01-08\n",
      "2            3    Borrower 3                 8  2025-01-15\n",
      "3            4    Borrower 4                18  2025-01-22\n",
      "4            5    Borrower 5                 4  2025-01-29\n"
     ]
    }
   ],
   "source": [
    "# Display the first few rows of each DataFrame to verify the data\n",
    "print(authors_df.head())\n",
    "print(books_df.head())\n",
    "print(borrowers_df.head())"
   ]
  },
  {
   "cell_type": "code",
   "execution_count": null,
   "id": "84cf8092-0586-43a5-b3c9-69e71d15dbbe",
   "metadata": {},
   "outputs": [],
   "source": []
  },
  {
   "cell_type": "code",
   "execution_count": null,
   "id": "835a4228-42e5-44f0-8b5b-493741cfa3ce",
   "metadata": {},
   "outputs": [],
   "source": []
  },
  {
   "cell_type": "code",
   "execution_count": null,
   "id": "3b1a7961-c199-401d-a352-f5485e7ae253",
   "metadata": {},
   "outputs": [],
   "source": []
  },
  {
   "cell_type": "code",
   "execution_count": null,
   "id": "22a568dd-fffc-4c01-b437-f27fd79b57bc",
   "metadata": {},
   "outputs": [],
   "source": []
  },
  {
   "cell_type": "code",
   "execution_count": null,
   "id": "3e0da8f9-66c4-4516-8366-653a3d4b566e",
   "metadata": {},
   "outputs": [],
   "source": []
  },
  {
   "cell_type": "code",
   "execution_count": null,
   "id": "487f8072-1795-45e4-a179-844fd186a0b7",
   "metadata": {},
   "outputs": [],
   "source": []
  },
  {
   "cell_type": "code",
   "execution_count": 26,
   "id": "423662f3-d6fc-4e8e-9c1a-e38bfdc4d526",
   "metadata": {},
   "outputs": [
    {
     "name": "stdout",
     "output_type": "stream",
     "text": [
      "   author_id author_name nationality\n",
      "0          1    Author 1    American\n",
      "1          2    Author 2    Canadian\n",
      "2          3    Author 3     British\n",
      "3          4    Author 4    American\n",
      "4          5    Author 5  Australian\n",
      "   book_id   title  author_id            genre  published_year\n",
      "0        1  Book 1          8  Science Fiction            2008\n",
      "1        2  Book 2          6  Science Fiction            2017\n",
      "2        3  Book 3          8      Non-Fiction            2002\n",
      "3        4  Book 4          5          Fantasy            2014\n",
      "4        5  Book 5          8  Science Fiction            2017\n",
      "   borrower_id borrower_name  borrowed_book_id borrow_date\n",
      "0            1    Borrower 1                12  2025-01-01\n",
      "1            2    Borrower 2                 6  2025-01-08\n",
      "2            3    Borrower 3                11  2025-01-15\n",
      "3            4    Borrower 4                 6  2025-01-22\n",
      "4            5    Borrower 5                 8  2025-01-29\n"
     ]
    }
   ],
   "source": [
    "# Import necessary libraries\n",
    "import pandas as pd\n",
    "import numpy as np\n",
    "\n",
    "# Create synthetic datasets for the Library system\n",
    "\n",
    "# Authors data (10 authors)\n",
    "authors_data = {\n",
    "    'author_id': range(1, 11),\n",
    "    'author_name': ['Author ' + str(i) for i in range(1, 11)],\n",
    "    'nationality': np.random.choice(['American', 'British', 'Canadian', 'Australian'], 10)\n",
    "}\n",
    "\n",
    "# Books data (20 books)\n",
    "books_data = {\n",
    "    'book_id': range(1, 21),\n",
    "    'title': ['Book ' + str(i) for i in range(1, 21)],\n",
    "    'author_id': np.random.choice(range(1, 11), 20),\n",
    "    'genre': np.random.choice(['Fiction', 'Non-Fiction', 'Science Fiction', 'Fantasy'], 20),\n",
    "    'published_year': np.random.randint(1990, 2021, 20)\n",
    "}\n",
    "\n",
    "# Borrowers data (15 borrowers)\n",
    "borrowers_data = {\n",
    "    'borrower_id': range(1, 16),\n",
    "    'borrower_name': ['Borrower ' + str(i) for i in range(1, 16)],\n",
    "    'borrowed_book_id': np.random.choice(range(1, 21), 15),\n",
    "    'borrow_date': pd.date_range(start='2025-01-01', periods=15, freq='7D').strftime('%Y-%m-%d').tolist()\n",
    "}\n",
    "\n",
    "# Convert the dictionaries to DataFrames\n",
    "authors_df = pd.DataFrame(authors_data)\n",
    "books_df = pd.DataFrame(books_data)\n",
    "borrowers_df = pd.DataFrame(borrowers_data)\n",
    "\n",
    "# Save the DataFrames to CSV files\n",
    "authors_df.to_csv('authors.csv', index=False)\n",
    "books_df.to_csv('books.csv', index=False)\n",
    "borrowers_df.to_csv('borrowers.csv', index=False)\n",
    "\n",
    "# Display the first few rows of each DataFrame to verify the data\n",
    "print(authors_df.head())\n",
    "print(books_df.head())\n",
    "print(borrowers_df.head())"
   ]
  },
  {
   "cell_type": "code",
   "execution_count": null,
   "id": "5f91225d-2394-450e-8544-db5519a9107d",
   "metadata": {},
   "outputs": [],
   "source": []
  }
 ],
 "metadata": {
  "kernelspec": {
   "display_name": "Python 3 (ipykernel)",
   "language": "python",
   "name": "python3"
  },
  "language_info": {
   "codemirror_mode": {
    "name": "ipython",
    "version": 3
   },
   "file_extension": ".py",
   "mimetype": "text/x-python",
   "name": "python",
   "nbconvert_exporter": "python",
   "pygments_lexer": "ipython3",
   "version": "3.12.7"
  }
 },
 "nbformat": 4,
 "nbformat_minor": 5
}
