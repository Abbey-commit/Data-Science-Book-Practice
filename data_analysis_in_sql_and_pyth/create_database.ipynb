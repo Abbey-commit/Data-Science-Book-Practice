{
 "cells": [
  {
   "cell_type": "code",
   "execution_count": 1,
   "id": "87445a0a-a749-4bb2-86f1-69b729081b51",
   "metadata": {},
   "outputs": [],
   "source": [
    "# Import necessary librries\n",
    "import pandas as pd\n",
    "import matplotlib.pyplot as plt\n",
    "import seaborn as sns\n",
    "import requests\n",
    "import sqlite3"
   ]
  },
  {
   "cell_type": "code",
   "execution_count": 2,
   "id": "c9f3dc06-ca1c-4154-81c3-0e11696a1b56",
   "metadata": {},
   "outputs": [],
   "source": [
    "# Create a connection to the SQLite database\n",
    "# If the database does not exist, it will be created\n",
    "conn = sqlite3.connect('epl_data.db')\n",
    "cursor = conn.cursor()"
   ]
  },
  {
   "cell_type": "code",
   "execution_count": 7,
   "id": "f8a701e9-f678-4384-ac40-2162351ef82a",
   "metadata": {},
   "outputs": [
    {
     "name": "stdout",
     "output_type": "stream",
     "text": [
      "         Date     HomeTeam    AwayTeam  FTHG  FTAG FTR  HTHG  HTAG HTR  \\\n",
      "0  2021-08-13      Watford  Man United     3     2   A     1     0   D   \n",
      "1  2021-08-20      Everton     Watford     4     1   D     0     1   A   \n",
      "2  2021-08-27     West Ham     Everton     0     3   A     2     1   H   \n",
      "3  2021-09-03      Everton    Man City     2     3   D     0     2   H   \n",
      "4  2021-09-10  Aston Villa     Norwich     3     0   D     0     2   A   \n",
      "\n",
      "          Referee  ...  HST  AST  HF  AF  HC  AC  HY  AY  HR  AR  \n",
      "0  Anthony Taylor  ...    4    3  15   8   1   4   1   1   1   0  \n",
      "1     Paul Tierry  ...    3    7   9  16   3   5   1   1   0   0  \n",
      "2  Anthony Taylor  ...    6    5  11   7  12   6   3   1   0   0  \n",
      "3  Michael Oliver  ...    6    6   7   8   8   3   3   4   1   1  \n",
      "4  Michael Oliver  ...    2    3   8  16  12   1   1   3   1   0  \n",
      "\n",
      "[5 rows x 22 columns]\n"
     ]
    }
   ],
   "source": [
    "# Load the EPL data into a DatFrame from a CSV file\n",
    "try:\n",
    "    data = pd.read_csv('epl_2021_22.csv')\n",
    "    print(data.head())  # Display the first few rows of the DataFrame\n",
    "\n",
    "except Exception as e:\n",
    "    print(f\"An error occurred: {e}\")\n",
    "\n",
    "epl_data = data"
   ]
  },
  {
   "cell_type": "code",
   "execution_count": 8,
   "id": "8656e903-b33d-47a9-928a-f05d86bde32d",
   "metadata": {},
   "outputs": [
    {
     "data": {
      "text/plain": [
       "<sqlite3.Cursor at 0x20017986040>"
      ]
     },
     "execution_count": 8,
     "metadata": {},
     "output_type": "execute_result"
    }
   ],
   "source": [
    "# Create a table in the SQLite database\n",
    "cursor.execute('''\n",
    "CREATE TABLE IF NOT EXISTS epl (\n",
    "    Date TEXT,\n",
    "    HomeTeam TEXT,\n",
    "    AwayTeam TEXT,\n",
    "    FTHG INTEGER,\n",
    "    FTAG INTEGER,\n",
    "    FTR TEXT,\n",
    "    HTHG INTEGER,\n",
    "    HTAG INTEGER,\n",
    "    HTR TEXT,\n",
    "    Referee TEXT,\n",
    "    HS INTEGER,\n",
    "    \"AS\" INTEGER,\n",
    "    HST INTEGER,\n",
    "    AST INTEGER,\n",
    "    HF INTEGER,\n",
    "    AF INTEGER,\n",
    "    HC INTEGER,\n",
    "    AC INTEGER,\n",
    "    HY INTEGER,\n",
    "    AY INTEGER,\n",
    "    HR INTEGER,\n",
    "    AR INTEGER\n",
    ")\n",
    "''')\n",
    "\n",
    "# cursor.execute('''\n",
    "# CREATE TABLE IF NOT EXISTS epl (\n",
    "#     Date TEXT,\n",
    "#     HomeTeam TEXT,\n",
    "#     AwayTeam TEXT,\n",
    "#     FTHG INTEGER,\n",
    "#     FTAG INTEGER,\n",
    "#     FTR TEXT,\n",
    "#     HTHG INTEGER,\n",
    "#     HTAG INTEGER,\n",
    "#     HTR TEXT,\n",
    "#     Referee TEXT,\n",
    "#     HS INTEGER,\n",
    "#     \"AS\" INTEGER,\n",
    "#     HST INTEGER,\n",
    "#     AST INTEGER,\n",
    "#     HF INTEGER,\n",
    "#     AF INTEGER,\n",
    "#     HC INTEGER,\n",
    "#     AC INTEGER,\n",
    "#     HY INTEGER,\n",
    "#     AY INTEGER,\n",
    "#     HR INTEGER,\n",
    "#     AR INTEGER\n",
    "# )\n",
    "# ''')"
   ]
  },
  {
   "cell_type": "code",
   "execution_count": 9,
   "id": "27265f38-6372-4ca2-8e9d-75d13ff131cd",
   "metadata": {},
   "outputs": [
    {
     "data": {
      "text/plain": [
       "380"
      ]
     },
     "execution_count": 9,
     "metadata": {},
     "output_type": "execute_result"
    }
   ],
   "source": [
    "# Insert the data into the table\n",
    "epl_data.to_sql('epl', conn, if_exists='replace', index=False)"
   ]
  },
  {
   "cell_type": "code",
   "execution_count": 10,
   "id": "e94b35ce-c538-4440-aa4e-d011b8f869ae",
   "metadata": {},
   "outputs": [],
   "source": [
    "# Commit the changes and close the connection\n",
    "conn.commit()\n",
    "conn.close()"
   ]
  },
  {
   "cell_type": "code",
   "execution_count": null,
   "id": "779c3093-2dc7-4165-9af7-120926cc4e2f",
   "metadata": {},
   "outputs": [],
   "source": []
  }
 ],
 "metadata": {
  "kernelspec": {
   "display_name": "Python 3 (ipykernel)",
   "language": "python",
   "name": "python3"
  },
  "language_info": {
   "codemirror_mode": {
    "name": "ipython",
    "version": 3
   },
   "file_extension": ".py",
   "mimetype": "text/x-python",
   "name": "python",
   "nbconvert_exporter": "python",
   "pygments_lexer": "ipython3",
   "version": "3.12.7"
  }
 },
 "nbformat": 4,
 "nbformat_minor": 5
}
