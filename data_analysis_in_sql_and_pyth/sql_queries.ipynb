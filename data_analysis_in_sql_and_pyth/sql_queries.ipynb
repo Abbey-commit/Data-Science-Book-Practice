{
 "cells": [
  {
   "cell_type": "markdown",
   "id": "e193910b-e995-484c-8490-cb09ae00eb02",
   "metadata": {},
   "source": [
    "# Perform SQL Queries for Data Wrangling"
   ]
  },
  {
   "cell_type": "code",
   "execution_count": 1,
   "id": "14f9068a-ad05-40b7-8164-808cfb6a104b",
   "metadata": {},
   "outputs": [],
   "source": [
    "# Import necessary libraries\n",
    "import sqlite3\n",
    "import pandas as pd"
   ]
  },
  {
   "cell_type": "code",
   "execution_count": 3,
   "id": "6f4cb1f3-c8c8-4fae-99e0-33e4d39036b7",
   "metadata": {},
   "outputs": [],
   "source": [
    "# Create a connection to the SQLite database\n",
    "conn = sqlite3.connect('epl_data.db')"
   ]
  },
  {
   "cell_type": "code",
   "execution_count": 7,
   "id": "0f3748b0-771a-4b60-ba94-e9c99aa69c23",
   "metadata": {},
   "outputs": [
    {
     "name": "stdout",
     "output_type": "stream",
     "text": [
      "Top 5 with the most goals scored at home:\n",
      "    HomeTeam  TotalHomeGoals\n",
      "0   Brighton              55\n",
      "1     Wolves              53\n",
      "2   Man City              51\n",
      "3  Newcastle              44\n",
      "4    Burnley              44\n"
     ]
    }
   ],
   "source": [
    "# Query 1: Get the top 5 teams with the most goals scored at home\n",
    "query1 = '''\n",
    "SELECT HomeTeam, SUM(FTHG) AS TotalHomeGoals\n",
    "FROM epl\n",
    "Group BY HomeTeam\n",
    "ORDER BY TotalHomeGoals DESC\n",
    "LIMIT 5\n",
    "'''\n",
    "\n",
    "top_home_teams = pd.read_sql(query1, conn)\n",
    "print('Top 5 with the most goals scored at home:')\n",
    "print(top_home_teams)"
   ]
  },
  {
   "cell_type": "code",
   "execution_count": 9,
   "id": "808b439c-0dd2-4530-a289-f6a080c5e026",
   "metadata": {},
   "outputs": [
    {
     "name": "stdout",
     "output_type": "stream",
     "text": [
      "\n",
      " Top 5 teams with most away goals scored\n",
      "    AwayTeam  TotalAwayGoals\n",
      "0   Man City              71\n",
      "1  Liverpool              62\n",
      "2    Burnley              59\n",
      "3    Chelsea              48\n",
      "4    Watford              44\n"
     ]
    }
   ],
   "source": [
    "# Query 2: Get the top teams with most goals scored away\n",
    "query2 = '''\n",
    "SELECT AwayTeam, SUM(FTAG) AS TotalAwayGoals\n",
    "FROM epl\n",
    "GROUP BY AwayTeam\n",
    "ORDER BY TotalAwayGoals DESC\n",
    "LIMIT 5\n",
    "'''\n",
    "\n",
    "top_away_teams = pd.read_sql(query2, conn)\n",
    "print('\\n Top 5 teams with most away goals scored')\n",
    "print(top_away_teams)"
   ]
  },
  {
   "cell_type": "code",
   "execution_count": 10,
   "id": "05308c7d-9b4c-47d7-ad9d-dcc84244baf7",
   "metadata": {},
   "outputs": [
    {
     "name": "stdout",
     "output_type": "stream",
     "text": [
      "\n",
      "Top 5 referees who officiated the most matches:\n",
      "          Referee  MatchesOfficiated\n",
      "0       Mike Dean                 81\n",
      "1     Paul Tierry                 80\n",
      "2  Michael Oliver                 75\n",
      "3  Anthony Taylor                 73\n",
      "4   Martin Atkins                 71\n"
     ]
    }
   ],
   "source": [
    "# Query 3: Get the top 5 referees who officiated the most matches\n",
    "query3 = '''\n",
    "SELECT Referee, COUNT(*) AS MatchesOfficiated\n",
    "FROM epl\n",
    "GROUP BY Referee\n",
    "ORDER BY MatchesOfficiated DESC\n",
    "LIMIT 5\n",
    "'''\n",
    "\n",
    "top_referees = pd.read_sql(query3, conn)\n",
    "print('\\nTop 5 referees who officiated the most matches:')\n",
    "print(top_referees)"
   ]
  },
  {
   "cell_type": "code",
   "execution_count": 11,
   "id": "e8b488f8-49b8-4d57-b184-a7871538202d",
   "metadata": {},
   "outputs": [],
   "source": [
    "# Close the connection\n",
    "conn.close()"
   ]
  },
  {
   "cell_type": "code",
   "execution_count": null,
   "id": "8731f16e-a2e1-4a60-b10a-aa9a5b8117d4",
   "metadata": {},
   "outputs": [],
   "source": []
  }
 ],
 "metadata": {
  "kernelspec": {
   "display_name": "Python 3 (ipykernel)",
   "language": "python",
   "name": "python3"
  },
  "language_info": {
   "codemirror_mode": {
    "name": "ipython",
    "version": 3
   },
   "file_extension": ".py",
   "mimetype": "text/x-python",
   "name": "python",
   "nbconvert_exporter": "python",
   "pygments_lexer": "ipython3",
   "version": "3.12.7"
  }
 },
 "nbformat": 4,
 "nbformat_minor": 5
}
