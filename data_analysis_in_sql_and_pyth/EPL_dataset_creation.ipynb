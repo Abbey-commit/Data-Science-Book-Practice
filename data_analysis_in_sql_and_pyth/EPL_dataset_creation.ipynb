{
 "cells": [
  {
   "cell_type": "markdown",
   "id": "c5720677-d8a4-4dc0-8935-5d4ac7b31c1a",
   "metadata": {},
   "source": [
    "# Create the EPL Dataset"
   ]
  },
  {
   "cell_type": "markdown",
   "id": "057c4417-27fd-47d6-878d-489326fff425",
   "metadata": {},
   "source": [
    "I will create a synthetic dataset for the English Premier League (EPL) 2021-22 season. This dataset will include columns such as Date, HomeTeam, AwayTeam, FTHG (Full Time Home Goals), FTAG (Full Time Away Goals), FTR (Full Time Result), and more."
   ]
  },
  {
   "cell_type": "code",
   "execution_count": 1,
   "id": "081f185b-b8a7-43ad-b09a-44dad644f9b3",
   "metadata": {},
   "outputs": [],
   "source": [
    "# Import necessary libraries\n",
    "import pandas as pd\n",
    "import numpy as np"
   ]
  },
  {
   "cell_type": "code",
   "execution_count": 4,
   "id": "e689a5ec-15c4-4930-b9ad-944d35c72321",
   "metadata": {},
   "outputs": [],
   "source": [
    "# Create a synthetic dataset for the English Premier League (EPL) 2021-22 season\n",
    "data = {\n",
    "    'Date': pd.date_range(start='2021-08-13', periods=380, freq='7D').strftime('%Y-%m-%d').tolist(),\n",
    "    'HomeTeam': np.random.choice(['Arsenal', 'Aston Villa', 'Brentford', 'Brighton', 'Burnley', 'Chelsea', 'Crystal Palace', 'Everton', 'Leeds', 'Leicester', 'Liverpool', 'Man City', 'Man United', 'Newcastle', 'Norwich', 'Southampton', 'Tottenham', 'Watford', 'West Ham', 'Wolves'], 380),\n",
    "    'AwayTeam': np.random.choice(['Arsenal', 'Aston Villa', 'Brentford', 'Brighton', 'Burnley', 'Chelsea', 'Crystal Palace', 'Everton', 'Leeds', 'Leicester', 'Liverpool', 'Man City', 'Man United', 'Newcastle', 'Norwich', 'Southampton', \"tottenham\", 'Watford', 'West Ham', 'Wolves'], 380),\n",
    "    'FTHG': np.random.randint(0, 5, 380),\n",
    "    'FTAG': np.random.randint(0, 5, 380),\n",
    "    'FTR': np.random.choice(['H', 'D', 'A'], 380),\n",
    "    'HTHG': np.random.randint(0, 3, 380),\n",
    "    'HTAG': np.random.randint(0, 3, 380),\n",
    "    'HTR': np.random.choice(['H', 'D', 'A'], 380),\n",
    "    'Referee': np.random.choice(['Mike Dean', 'Michael Oliver', 'Anthony Taylor', 'Martin Atkins', 'Paul Tierry'], 380),\n",
    "    'HS': np.random.randint(5, 25, 380),\n",
    "    'AS': np.random.randint(5, 25, 380),\n",
    "    'HST': np.random.randint(1, 10, 380),\n",
    "    'AST': np.random.randint(1, 10, 380),\n",
    "    'HF': np.random.randint(5, 20, 380),\n",
    "    'AF': np.random.randint(5, 20, 380),\n",
    "    'HC': np.random.randint(0, 20, 380),\n",
    "    'AC': np.random.randint(0, 10, 380),\n",
    "    'HY': np.random.randint(0, 5, 380),\n",
    "    'AY': np.random.randint(0, 5, 380),\n",
    "    'HR': np.random.randint(0, 2, 380),\n",
    "    'AR': np.random.randint(0, 2, 380)\n",
    "}"
   ]
  },
  {
   "cell_type": "code",
   "execution_count": 5,
   "id": "751956c1-4489-4935-b869-4af972775d6e",
   "metadata": {},
   "outputs": [],
   "source": [
    "# Convert the dictionary to DataFrame\n",
    "epl_data = pd.DataFrame(data)"
   ]
  },
  {
   "cell_type": "code",
   "execution_count": 6,
   "id": "cb01aba5-fa30-4535-aa41-ae9dd126fe3e",
   "metadata": {},
   "outputs": [],
   "source": [
    "# Save the DataFrame to a CSV file\n",
    "epl_data.to_csv('epl_2021_22.csv', index=False)"
   ]
  },
  {
   "cell_type": "code",
   "execution_count": 7,
   "id": "56b1eaf5-eb2c-4593-9916-2799d4ce838c",
   "metadata": {},
   "outputs": [
    {
     "name": "stdout",
     "output_type": "stream",
     "text": [
      "         Date     HomeTeam    AwayTeam  FTHG  FTAG FTR  HTHG  HTAG HTR  \\\n",
      "0  2021-08-13      Watford  Man United     3     2   A     1     0   D   \n",
      "1  2021-08-20      Everton     Watford     4     1   D     0     1   A   \n",
      "2  2021-08-27     West Ham     Everton     0     3   A     2     1   H   \n",
      "3  2021-09-03      Everton    Man City     2     3   D     0     2   H   \n",
      "4  2021-09-10  Aston Villa     Norwich     3     0   D     0     2   A   \n",
      "\n",
      "          Referee  ...  HST  AST  HF  AF  HC  AC  HY  AY  HR  AR  \n",
      "0  Anthony Taylor  ...    4    3  15   8   1   4   1   1   1   0  \n",
      "1     Paul Tierry  ...    3    7   9  16   3   5   1   1   0   0  \n",
      "2  Anthony Taylor  ...    6    5  11   7  12   6   3   1   0   0  \n",
      "3  Michael Oliver  ...    6    6   7   8   8   3   3   4   1   1  \n",
      "4  Michael Oliver  ...    2    3   8  16  12   1   1   3   1   0  \n",
      "\n",
      "[5 rows x 22 columns]\n"
     ]
    }
   ],
   "source": [
    "# Display the first few rows of the DataFrame\n",
    "print(epl_data.head())"
   ]
  },
  {
   "cell_type": "code",
   "execution_count": null,
   "id": "f0307add-6b68-4ad4-b9cf-468f4dbd58d3",
   "metadata": {},
   "outputs": [],
   "source": []
  }
 ],
 "metadata": {
  "kernelspec": {
   "display_name": "Python 3 (ipykernel)",
   "language": "python",
   "name": "python3"
  },
  "language_info": {
   "codemirror_mode": {
    "name": "ipython",
    "version": 3
   },
   "file_extension": ".py",
   "mimetype": "text/x-python",
   "name": "python",
   "nbconvert_exporter": "python",
   "pygments_lexer": "ipython3",
   "version": "3.12.7"
  }
 },
 "nbformat": 4,
 "nbformat_minor": 5
}
