{
 "cells": [
  {
   "cell_type": "markdown",
   "id": "87347196-e97d-434f-959e-efcd1b1ee108",
   "metadata": {},
   "source": [
    "# Synthetic Dataset for Library System\n",
    "Create a SQLite Database and Load Data - In this step, we create a SQLite database and load the data from the CSV files into tables."
   ]
  },
  {
   "cell_type": "code",
   "execution_count": 1,
   "id": "a7d48bd6-11b2-4a52-9d8a-8b0b5fb2a09a",
   "metadata": {},
   "outputs": [],
   "source": [
    "# Import necessary libraries\n",
    "import sqlite3\n",
    "import pandas as pd"
   ]
  },
  {
   "cell_type": "code",
   "execution_count": null,
   "id": "fb1fbb87-a606-4f35-bbd4-b053a7cc89d4",
   "metadata": {},
   "outputs": [],
   "source": [
    "Create a connection to the SQLlite "
   ]
  }
 ],
 "metadata": {
  "kernelspec": {
   "display_name": "Python 3 (ipykernel)",
   "language": "python",
   "name": "python3"
  },
  "language_info": {
   "codemirror_mode": {
    "name": "ipython",
    "version": 3
   },
   "file_extension": ".py",
   "mimetype": "text/x-python",
   "name": "python",
   "nbconvert_exporter": "python",
   "pygments_lexer": "ipython3",
   "version": "3.12.7"
  }
 },
 "nbformat": 4,
 "nbformat_minor": 5
}
