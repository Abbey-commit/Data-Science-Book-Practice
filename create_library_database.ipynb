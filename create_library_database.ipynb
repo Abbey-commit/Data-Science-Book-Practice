{
 "cells": [
  {
   "cell_type": "markdown",
   "id": "87347196-e97d-434f-959e-efcd1b1ee108",
   "metadata": {},
   "source": [
    "# Synthetic Dataset for Library System\n",
    "Create a SQLite Database and Load Data - In this step, we create a SQLite database and load the data from the CSV files into tables."
   ]
  },
  {
   "cell_type": "code",
   "execution_count": 1,
   "id": "a7d48bd6-11b2-4a52-9d8a-8b0b5fb2a09a",
   "metadata": {},
   "outputs": [],
   "source": [
    "# Import necessary libraries\n",
    "import sqlite3\n",
    "import pandas as pd"
   ]
  },
  {
   "cell_type": "code",
   "execution_count": 3,
   "id": "fb1fbb87-a606-4f35-bbd4-b053a7cc89d4",
   "metadata": {},
   "outputs": [],
   "source": [
    "# Create a connection to the SQLlite database\n",
    "conn = sqlite3.connect('library_data.db')\n",
    "cursor = conn.cursor()"
   ]
  },
  {
   "cell_type": "code",
   "execution_count": 6,
   "id": "5e5dc63c-edfa-4046-8496-87ade079676f",
   "metadata": {},
   "outputs": [],
   "source": [
    "# Load the data into DatFrames\n",
    "authors_df = pd.read_csv('authors.csv')\n",
    "books_df = pd.read_csv('books.csv')\n",
    "borrowers_df = pd.read_csv('borrowers.csv')"
   ]
  },
  {
   "cell_type": "code",
   "execution_count": 9,
   "id": "ce0c32b9-ed73-4150-aa7a-78d137986658",
   "metadata": {},
   "outputs": [
    {
     "data": {
      "text/plain": [
       "<sqlite3.Cursor at 0x2b7c5b3ab40>"
      ]
     },
     "execution_count": 9,
     "metadata": {},
     "output_type": "execute_result"
    }
   ],
   "source": [
    "# Create tables in the SQLite database\n",
    "cursor.execute('''\n",
    "CREATE TABLE IF NOT EXISTS authors (\n",
    "    author_id INTEGER PRIMARY KEY,\n",
    "    author_name TEXT,\n",
    "    nationality TEXT\n",
    "    )\n",
    "''')"
   ]
  },
  {
   "cell_type": "code",
   "execution_count": 12,
   "id": "cbc29e50-368b-40f1-9801-503da59f6594",
   "metadata": {},
   "outputs": [
    {
     "data": {
      "text/plain": [
       "<sqlite3.Cursor at 0x2b7c5b3ab40>"
      ]
     },
     "execution_count": 12,
     "metadata": {},
     "output_type": "execute_result"
    }
   ],
   "source": [
    "cursor.execute('''\n",
    "CREATE TABLE IF NOT EXISTS borrowers (\n",
    "    borrower_id INTEGER PRIMARY KEY,\n",
    "    borrower_name TEXT,\n",
    "    borrowed_book_id INTEGER,\n",
    "    borrow_date TEXT,\n",
    "    FOREIGN KEY (borrowed_book_id) REFERENCES books(book_id)\n",
    "    ) \n",
    "''')"
   ]
  },
  {
   "cell_type": "code",
   "execution_count": 15,
   "id": "591b6868-ccf5-404c-ae8d-9a5762b53092",
   "metadata": {},
   "outputs": [
    {
     "data": {
      "text/plain": [
       "15"
      ]
     },
     "execution_count": 15,
     "metadata": {},
     "output_type": "execute_result"
    }
   ],
   "source": [
    "# Insert the data into the table\n",
    "authors_df.to_sql('authors', conn, if_exists='replace', index=False)\n",
    "books_df.to_sql('books', conn, if_exists='replace', index=False)\n",
    "borrowers_df.to_sql('borrowers', conn, if_exists='replace', index=False)"
   ]
  },
  {
   "cell_type": "code",
   "execution_count": 17,
   "id": "13552310-d69a-488f-9a00-6c2e5ca34eb9",
   "metadata": {},
   "outputs": [],
   "source": [
    "# Commit the changes and close the connection\n",
    "conn.commit()\n",
    "conn.close()"
   ]
  },
  {
   "cell_type": "code",
   "execution_count": null,
   "id": "9a9ad287-2ed6-42e7-ba2e-47fc3f36b45e",
   "metadata": {},
   "outputs": [],
   "source": []
  }
 ],
 "metadata": {
  "kernelspec": {
   "display_name": "Python 3 (ipykernel)",
   "language": "python",
   "name": "python3"
  },
  "language_info": {
   "codemirror_mode": {
    "name": "ipython",
    "version": 3
   },
   "file_extension": ".py",
   "mimetype": "text/x-python",
   "name": "python",
   "nbconvert_exporter": "python",
   "pygments_lexer": "ipython3",
   "version": "3.12.7"
  }
 },
 "nbformat": 4,
 "nbformat_minor": 5
}
